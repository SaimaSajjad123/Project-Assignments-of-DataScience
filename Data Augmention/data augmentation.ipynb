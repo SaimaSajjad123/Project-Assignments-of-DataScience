{
 "cells": [
  {
   "cell_type": "markdown",
   "metadata": {},
   "source": [
    "## `Using os library`"
   ]
  },
  {
   "cell_type": "code",
   "execution_count": 9,
   "metadata": {},
   "outputs": [
    {
     "data": {
      "text/plain": [
       "'D:\\\\iba\\\\4. Spring 2020\\\\datascience@sibau\\\\Week4\\\\image_0048.jpg'"
      ]
     },
     "execution_count": 9,
     "metadata": {},
     "output_type": "execute_result"
    }
   ],
   "source": [
    "import os, shutil\n",
    "\n",
    "# get current working dir\n",
    "cur = os.getcwd()\n",
    "\n",
    "# list all dir/files in path\n",
    "path = \"caltech-original-prepared\"\n",
    "path_dirs = os.listdir(path)\n",
    "\n",
    "#joining two directories\n",
    "train_dir = os.path.join(path, \"train\")\n",
    "\n",
    "# counting total files/records in any dir\n",
    "classes = os.listdir(train_dir)\n",
    "len_classes = len(classes)\n",
    "\n",
    "# copying file from src to dst\n",
    "src = os.path.join(cur, \"caltech-original-prepared\\\\test\\\\accordion\\\\image_0048.jpg\")\n",
    "dst = os.path.join(cur, \"caltech-original-prepared\\\\val\\\\accordion\")\n",
    "shutil.copy(src, cur)"
   ]
  },
  {
   "cell_type": "markdown",
   "metadata": {},
   "source": [
    "## `Data Augmentation`"
   ]
  },
  {
   "cell_type": "code",
   "execution_count": 11,
   "metadata": {},
   "outputs": [],
   "source": [
    "import os\n",
    "import random\n",
    "from scipy import ndarray\n",
    "\n",
    "# image processing library\n",
    "import skimage as sk\n",
    "from skimage import transform\n",
    "from skimage import util\n",
    "from skimage import io\n",
    "\n",
    "def random_rotation(image_array: ndarray):\n",
    "    # pick a random degree of rotation between 25% on the left and 25% on the right\n",
    "    random_degree = random.uniform(-25, 25)\n",
    "    return sk.transform.rotate(image_array, random_degree)\n",
    "\n",
    "def random_noise(image_array: ndarray):\n",
    "    # add random noise to the image\n",
    "    return sk.util.random_noise(image_array)\n",
    "\n",
    "def horizontal_flip(image_array: ndarray):\n",
    "    # horizontal flip doesn't need skimage, it's easy as flipping the image array of pixels !\n",
    "    return image_array[:, ::-1]\n",
    "\n",
    "# dictionary of the transformations we defined earlier\n",
    "available_transformations = {\n",
    "    'rotate': random_rotation,\n",
    "    'noise': random_noise,\n",
    "    'horizontal_flip': horizontal_flip\n",
    "}"
   ]
  },
  {
   "cell_type": "code",
   "execution_count": 18,
   "metadata": {},
   "outputs": [
    {
     "name": "stderr",
     "output_type": "stream",
     "text": [
      "Lossy conversion from float64 to uint8. Range [0, 1]. Convert image to uint8 prior to saving to suppress this warning.\n",
      "Lossy conversion from float64 to uint8. Range [0, 1]. Convert image to uint8 prior to saving to suppress this warning.\n"
     ]
    }
   ],
   "source": [
    "img_path = \"image_0001\"\n",
    "\n",
    "# fetching image\n",
    "img_to_augment = sk.io.imread(img_path + \".jpg\")\n",
    "\n",
    "# calling rotation method and saving rotated image\n",
    "rotated_img = random_rotation(img_to_augment)\n",
    "io.imsave(img_path + \"_rotated.jpg\", rotated_img)\n",
    "\n",
    "# calling flipping method and saving flipped image\n",
    "flipped_img = horizontal_flip(img_to_augment)\n",
    "io.imsave(img_path + \"_flipped.jpg\", flipped_img)\n",
    "\n",
    "# calling noise injecting method and saving noisy image\n",
    "noisy_img = random_noise(img_to_augment)\n",
    "io.imsave(img_path + \"_noisy.jpg\", noisy_img)"
   ]
  }
 ],
 "metadata": {
  "kernelspec": {
   "display_name": "Python 3",
   "language": "python",
   "name": "python3"
  },
  "language_info": {
   "codemirror_mode": {
    "name": "ipython",
    "version": 3
   },
   "file_extension": ".py",
   "mimetype": "text/x-python",
   "name": "python",
   "nbconvert_exporter": "python",
   "pygments_lexer": "ipython3",
   "version": "3.7.1"
  }
 },
 "nbformat": 4,
 "nbformat_minor": 2
}
